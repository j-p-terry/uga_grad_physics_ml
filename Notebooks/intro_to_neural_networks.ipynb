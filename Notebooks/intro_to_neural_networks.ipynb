{
 "cells": [
  {
   "cell_type": "code",
   "execution_count": 1,
   "id": "183fdb73-b576-4e96-824f-7aa1fc8b83a9",
   "metadata": {},
   "outputs": [],
   "source": [
    "from IPython.display import display, Math, Latex\n",
    "from matplotlib import cm \n",
    "from matplotlib import rc as mplrc\n",
    "import matplotlib.pyplot as plt\n",
    "import numpy as np"
   ]
  },
  {
   "cell_type": "markdown",
   "id": "dcd5e52a-b432-49a6-8cbe-d1a78cb3a684",
   "metadata": {},
   "source": [
    "#### Some parameters"
   ]
  },
  {
   "cell_type": "code",
   "execution_count": 2,
   "id": "1033acec-2d09-4505-a5c7-709c6debcd8e",
   "metadata": {},
   "outputs": [],
   "source": [
    "# plotting a prameters\n",
    "scale_factor = 1.5\n",
    "\n",
    "labels = 16 * scale_factor\n",
    "ticks = 10 * scale_factor\n",
    "# ticks = 10 * scale_factor\n",
    "legends = 12 * scale_factor\n",
    "text = 14 * scale_factor\n",
    "titles = 22 * scale_factor\n",
    "lw = 3 * scale_factor\n",
    "ps = 200 * scale_factor\n",
    "cmap = 'magma'\n",
    "\n",
    "colors = ['firebrick', 'steelblue', 'darkorange', 'darkviolet', 'cyan', 'magenta', 'darkgreen', 'deeppink']\n",
    "markers = ['x', 'o', '+', '>', '*', 'D', '4']\n",
    "linestyles = ['-', '--', ':', '-.']"
   ]
  },
  {
   "cell_type": "markdown",
   "id": "c6976d81-2ed8-49d7-aeb6-8b9d38f0710d",
   "metadata": {},
   "source": [
    "# What is a neural network?"
   ]
  },
  {
   "cell_type": "markdown",
   "id": "eb727d88-6458-45f3-86ad-3b4c82c2c282",
   "metadata": {},
   "source": [
    "Just a series of matrix multiplications (and vector additions) followed by nonlinear functions. You need nonlinear functions because a series of matrix multiplications is simply a multiplication by a single matrix. Each layer (linear operation) has a matrix with weights and a vector with biases (sometimes not used).\n",
    "\n",
    "Mathematically, we can express a neural network, $g(\\vec{x})$, containing $L$ layers, each with an activation function $f_{L}$ and a weight matrix $X_{L}$, as $$g(\\vec{x}) = f_{L}(W_{L}f_{L-1}(W_{L-1}......f_{1}(W_{1}\\vec{x})...)) $$\n",
    "\n",
    "The simplest type is called a \"feedforward multilayer perceptron.\"$^{*}$ The input is a vector that is sent through a series of dense matrices and nonlinear functions.\n",
    "\n",
    "<img src=\"imgs/mlp.png\" style=\"height:600px\" class=\"center\" alt=\"mlp\"/><br>\n",
    "\n",
    "$^{*}$ technically a misnomer, but it's what everyone says."
   ]
  },
  {
   "cell_type": "markdown",
   "id": "28893ac9-81c1-46f8-bfbe-788abf238009",
   "metadata": {},
   "source": [
    "By the Universal Approximation Theorem, _any_ bounded function in $\\mathbb{R}^{n}$ can be approximated to arbitrary precision by a neural network (not that you can always realistically achieve this). This makes them one of the most powerful tools in machine learning, which is a big reason why they are so ubiquitous.\n",
    "\n",
    "Neural networks were first designed in the 1950s, but there were no computers remotely capable of implementing them for decades. The increase in computational power along with the introduction of the idea of backpropogation for optimization made them feasible and powerful.\n",
    "\n",
    "Backpropogation is a method of efficiently calculating the derivative of the cost function with respect to a weight matrix. It does so by recognizing that each layer only affects the performance of the network as a whole to the extent that it affects the input to the next layer. By recusrively calculating the effect of a given weight matrix only on the next layer, the total derivative of the cost function can be quickly found with the chain rule. Defining $C$ as the cost function, $x$ as the vector input for the network, $z_{L}$ as the input to the activation at layer $L$, and $a_{L}$ as the output of the activation at layer $L$:\n",
    "\n",
    "$$\\frac{dC}{dx} = \\frac{dC}{da_{L}} \\cdot \\frac{da_{L}}{dz_{L}} \\cdot \\frac{dz_{L}}{da_{L-1}} \\cdot \\frac{da_{L-1}}{dz_{L-1}} ... \\frac{da_{1}}{dz_{1}} \\frac{dz_{1}}{dx} $$\n",
    "\n",
    "$\\frac{dC}{da_{L}}$ is simple to calculate using the output of the entire network. $\\frac{da_{L}}{dz_{L}}$ is just the derivative of the activation function at that value (diagonal matrix). $\\frac{dz_{L}}{da_{L-1}}$ is simply the weight matrix, $W_{L}$, itself. Using this, we can efficiently optimize the enormous number of parameters in neural networks."
   ]
  },
  {
   "cell_type": "markdown",
   "id": "507ff729-492c-4795-9c9c-fd6956025a84",
   "metadata": {},
   "source": [
    "The breadth of architectures is enormous, so there's no way we can be both exhaustive and detailed. For now, we'll focus on two main types: MLPs and CNNs. These are both feedfoward networks as opposed to recurrent networks, which we'll get into later. We'll first take a quick detour to talk about activations."
   ]
  },
  {
   "cell_type": "markdown",
   "id": "bcf376fb-f4f0-42ca-95ce-378b4212444b",
   "metadata": {},
   "source": [
    "## Activations"
   ]
  },
  {
   "cell_type": "markdown",
   "id": "2a0d361e-5cd5-4af0-8fc8-84f0958bd59a",
   "metadata": {},
   "source": [
    "### Functions"
   ]
  },
  {
   "cell_type": "code",
   "execution_count": 3,
   "id": "f90b04c2-75f2-4ce8-8709-7a8cfb49475a",
   "metadata": {},
   "outputs": [],
   "source": [
    "def get_relu(x: float) -> float:\n",
    "    \n",
    "    return max([0., x])\n",
    "def get_elu(x: float, alpha: float=1.) -> float:\n",
    "    \n",
    "    return x if x >= 0 else alpha * (np.exp(x) - 1.)\n",
    "\n",
    "def get_silu(x: float) -> float:\n",
    "    \n",
    "    return x  / (1 + np.exp(-x))\n",
    "\n",
    "def get_gelu(x: float) -> float:\n",
    "    \n",
    "    return 0.5 * x * (1 + np.tanh(np.sqrt(2./np.pi) * (x + 0.044715 * x ** 3)))\n",
    "\n",
    "def get_sigmoid(x: float) -> float:\n",
    "    \n",
    "    return 1. / (1. + np.exp(-x))\n",
    "\n",
    "def get_softmax(x: float, xs: list) -> float:\n",
    "    \n",
    "    return np.exp(x) / np.sum(np.exp(xs))\n",
    "\n",
    "def plot_image(image: list, category: str='', cmap: str='viridis', show_ticks: bool=True):\n",
    "    \n",
    "    '''Plots an image'''\n",
    "    \n",
    "    plt.figure(figsize=(8.5, 8.))\n",
    "    \n",
    "    plt.imshow(image, cmap=cmap)\n",
    "    \n",
    "    if show_ticks:\n",
    "        plt.xticks(fontsize=ticks)\n",
    "        plt.yticks(fontsize=ticks)\n",
    "    else:\n",
    "        plt.xticks([])\n",
    "        plt.yticks([])\n",
    "        \n",
    "    if category != '':\n",
    "        plt.title(category, fontsize=titles)\n",
    "        \n",
    "    plt.show()\n",
    "    \n",
    "def plot_image_panel(images: list, labels: list=[], cmap: str='viridis', show_ticks: bool=True):\n",
    "    \n",
    "    '''Plots a 2x2 panel of images'''\n",
    "    \n",
    "    mplrc('xtick', labelsize=ticks) \n",
    "    mplrc('ytick', labelsize=ticks)\n",
    "    mplrc('axes', titlesize=titles)\n",
    "    \n",
    "    fig, axs = plt.subplots(nrows=2, ncols=2, figsize=(12., 12.))\n",
    "    \n",
    "    for (i, image) in enumerate(images):\n",
    "        if i > 1:\n",
    "            ax = axs[1, i % 2]\n",
    "        else:\n",
    "            ax = axs[0, i]\n",
    "        \n",
    "        ax.imshow(image, cmap=cmap)\n",
    "        if len(labels) > i and labels[i] != '':\n",
    "            ax.set_title(labels[i])\n",
    "        if i % 2 == 1:\n",
    "            ax.set_yticks([])\n",
    "            ax.set_yticks([])\n",
    "    \n",
    "        if not show_ticks:\n",
    "            ax.set_xticks([])\n",
    "            ax.set_yticks([])\n",
    "        \n",
    "    plt.show()\n",
    "\n",
    "def plot_curves(curves: list, plot_labels: list=[], cmap: str='viridis', show_ticks: bool=True, \n",
    "                xlabel: str='x', ylabel: str='y', xscale: str='', yscale: str=''):\n",
    "    \n",
    "    '''Plots multiple curves on the same plot'''\n",
    "    \n",
    "    mplrc('xtick', labelsize=ticks) \n",
    "    mplrc('ytick', labelsize=ticks)\n",
    "    mplrc('axes', titlesize=titles)\n",
    "    \n",
    "    if len(curves) > len(colors):\n",
    "        these_colors = cm.get_cmap('viridis', len(curves)).colors\n",
    "    else:\n",
    "        these_colors = colors\n",
    "    \n",
    "    fig = plt.figure(figsize=(8., 6.))\n",
    "    \n",
    "    for (i, curve) in enumerate(curves):\n",
    "        \n",
    "        plt.plot(curve[0], curve[1], lw=lw, c=colors[i], label=plot_labels[i])\n",
    "        \n",
    "    plt.legend(loc='best', fontsize=legends)\n",
    "    plt.xlabel(xlabel, fontsize=labels)\n",
    "    plt.ylabel(ylabel, fontsize=labels)\n",
    "    plt.xticks(fontsize=ticks)\n",
    "    plt.yticks(fontsize=ticks)\n",
    "    \n",
    "    if xscale == 'log':\n",
    "        plt.xscale('log')\n",
    "    if yscale == 'log':\n",
    "        plt.yscale('log')\n",
    "\n",
    "    plt.show()\n",
    "    \n",
    "\n",
    "def plot_activations(objective: str='regression', alpha: float=1.):\n",
    "\n",
    "    \n",
    "    xs = np.linspace(-4, 4, 100)\n",
    "    \n",
    "    if objective == 'regression':\n",
    "        \n",
    "        relu_ = np.array([get_relu(x) for x in xs])\n",
    "        elu_ = np.array([get_elu(x, alpha=alpha) for x in xs])\n",
    "        silu_ = np.array([get_silu(x) for x in xs])\n",
    "        gelu_ = np.array([get_gelu(x) for x in xs])\n",
    "        \n",
    "        curves = [[xs, relu_], [xs, elu_], [xs, silu_], [xs, gelu_]]\n",
    "        plot_labels = ['ReLU', 'ELU', 'SiLU', 'GELU']\n",
    "        \n",
    "    else:\n",
    "        sigmoid_ = np.array([get_sigmoid(x) for x in xs])\n",
    "        tanh_ = np.array([np.tanh(x) for x in xs])\n",
    "        curves = [[xs, sigmoid_], [xs, tanh_]]\n",
    "        plot_labels = ['Sigmoid', 'tanh']\n",
    "        \n",
    "    \n",
    "    plot_curves(curves, plot_labels)"
   ]
  },
  {
   "cell_type": "markdown",
   "id": "881e2234-fb31-49ca-820a-affd025436fa",
   "metadata": {},
   "source": [
    "### Text"
   ]
  },
  {
   "cell_type": "markdown",
   "id": "a06837d2-9d75-4621-bbe3-827362f2777b",
   "metadata": {},
   "source": [
    "It is essential that nonlinear operations are performed within the network. Since a neural network is just glorified matrix multiplication, applying no nonlinear functions is the same as multiplying ny a single matrix. This is where activations come in. \n",
    "\n",
    "Activations are nonlinear functions that are applied between neural network layers. There are different activations for different layers. Non-output layers typically use something like ReLU (rectified linear unit) whereas output layers can use something like softmax.\n",
    "\n",
    "Typical activations inside network:\n",
    "\n",
    "* ReLU\n",
    "\n",
    "$$ ReLU(x_{i}) = max([0, x_{i}]) $$\n",
    "\n",
    "ReLU suffers from the \"vanishing gradient problem\" because there is a non-differentiable cusp at 0 and the derivative of all negative values is zero.\n",
    "\n",
    "Various other activations introduce ideas to help solve this.\n",
    "\n",
    "* ELU (exponential linear unit)\n",
    "\n",
    "$$ ELU(x_{i}) = \\left\\{ \n",
    "    \\begin{array}{ll}\n",
    "    x & x \\geq 0 \\\\\n",
    "    \\alpha(e^{x_{i}} - 1) & x < 0\\\\\n",
    "\\end{array} \n",
    "\\right.  $$\n",
    "\n",
    "* SiLU (Sigmoid linear unit)\n",
    "\n",
    "$$ SiLU(x_{i}) = \\frac{x_{i}}{1 + e^{-x_{i}}}$$\n",
    "\n",
    "* GELU (Gaussian error linear unit)\n",
    "\n",
    "$$ GELU(x_{i}) = x_{i}P(X\\leq x_{i}) = x_{i}\\Phi(x_{i})$$ \n",
    "$$ $$\n",
    "$$ \\qquad \\approx 0.5x_{i}\\left(1 + tanh\\left[ \\sqrt{2/\\pi}(x_{i} + 0.044715x_{i}^{3})\\right]\\right) $$\n",
    "\n",
    "&emsp; &emsp; where $X \\sim \\mathcal{N[0, 1]}$ and $\\Phi$ is the Gaussian CDF.\n",
    "\n",
    "These are just a subselection, but the idea of all of them is to allo wthere to be nonzero derivatives at all points and make all points differentiable.\n"
   ]
  },
  {
   "cell_type": "code",
   "execution_count": 4,
   "id": "79a1e283-e0b7-4cc1-9f57-7c2a3da7526a",
   "metadata": {},
   "outputs": [
    {
     "data": {
      "image/png": "[encoded data removed]",
      "text/plain": [
       "<Figure size 800x600 with 1 Axes>"
      ]
     },
     "metadata": {},
     "output_type": "display_data"
    }
   ],
   "source": [
    "plot_activations(objective='regression')"
   ]
  },
  {
   "cell_type": "code",
   "execution_count": 5,
   "id": "60af4073-c78f-4326-b60d-e794f120fd5d",
   "metadata": {},
   "outputs": [
    {
     "data": {
      "image/png": "[encoded data removed]",
      "text/plain": [
       "<Figure size 800x600 with 1 Axes>"
      ]
     },
     "metadata": {},
     "output_type": "display_data"
    }
   ],
   "source": [
    "plot_activations(objective='classification')"
   ]
  },
  {
   "cell_type": "markdown",
   "id": "48cb0fef-f0c8-4770-9534-55947e6e1993",
   "metadata": {},
   "source": [
    "# MLP\n",
    "\n",
    "As stated above, the MLP is a trivial example of a neural network, but we still can't understate its power. An MLP satisfies the universal approximation theorem, so it can theoretically solve almost any problem. Despite this, the specifics of the architecture, hyperparameters, optimizers, data quality, etc. can make this extremely difficult.\n",
    "\n",
    "Regardless, they are useful. Data is often in the form of vectors. Tabular data, for example, is extremely common and used in databases such as SQL. This is the type of data that we saw last week with the iris dataset: each entry had four numerical features that described that datapoint. We used simple algorithms because the problem was so simple, but we could have certainly used an MLP. Typically, the problems and data are much more complex than the iris dataset, so MLPs naturally emerge as top algorithms. \n",
    "\n",
    "Let's do a simple classification with an MLP made with PyTorch Lightning. This will use the classic MNIST fashion dataset."
   ]
  },
  {
   "cell_type": "markdown",
   "id": "82529b1c-4d3c-4396-8453-2eff36185590",
   "metadata": {},
   "source": [
    "## Imports"
   ]
  },
  {
   "cell_type": "code",
   "execution_count": 6,
   "id": "5fea856e-b581-4653-b6b4-2c49fb88a208",
   "metadata": {},
   "outputs": [],
   "source": [
    "import random\n",
    "\n",
    "import pandas as pd\n",
    "import PIL\n",
    "\n",
    "import pytorch_lightning as pl\n",
    "from pytorch_lightning.callbacks import LearningRateMonitor, ModelCheckpoint, progress\n",
    "from pytorch_lightning.callbacks.early_stopping import EarlyStopping\n",
    "from pytorch_lightning.loggers import WandbLogger, TensorBoardLogger\n",
    "\n",
    "from sklearn.model_selection import train_test_split\n",
    "\n",
    "import torch\n",
    "from torch import nn, Tensor\n",
    "import torch.nn.functional as F\n",
    "import torch.optim as optim\n",
    "from torch.optim.lr_scheduler import MultiStepLR\n",
    "from torch.utils.data import DataLoader, Dataset, RandomSampler, random_split\n",
    "\n",
    "import torchmetrics\n",
    "\n",
    "import torchvision\n",
    "import torchvision.datasets as datasets\n",
    "import torchvision.transforms as T"
   ]
  },
  {
   "cell_type": "code",
   "execution_count": 7,
   "id": "ae1293ac-ad1b-4597-89df-cf60cb0d90e6",
   "metadata": {},
   "outputs": [
    {
     "data": {
      "text/plain": [
       "<torch._C.Generator at 0x12e1ba2f0>"
      ]
     },
     "execution_count": 7,
     "metadata": {},
     "output_type": "execute_result"
    }
   ],
   "source": [
    "### Set seed for reproducibility\n",
    "np.random.seed(123)\n",
    "random.seed(123)\n",
    "torch.manual_seed(123)"
   ]
  },
  {
   "cell_type": "markdown",
   "id": "1838c26d-83c5-4c8d-a395-57bf089b13dc",
   "metadata": {},
   "source": [
    "## Download data"
   ]
  },
  {
   "cell_type": "code",
   "execution_count": 8,
   "id": "894d1ef3-a99c-48b0-91bc-9be4ca82408c",
   "metadata": {},
   "outputs": [],
   "source": [
    "### Download fashion MNIST\n",
    "train_dataset = datasets.FashionMNIST(\n",
    "    root='./data', train=True, download=True,)\n",
    "test_dataset = datasets.FashionMNIST(\n",
    "    root='./data', train=False, download=True,)"
   ]
  },
  {
   "cell_type": "code",
   "execution_count": 9,
   "id": "ea6c30a7-cb11-47cc-820b-62f0a6ef9c6a",
   "metadata": {},
   "outputs": [],
   "source": [
    "### Get possible classes in data\n",
    "classes = train_dataset.classes"
   ]
  },
  {
   "cell_type": "markdown",
   "id": "979e8f59-db0f-4b60-8813-356404cbc14a",
   "metadata": {},
   "source": [
    "## Prepare data"
   ]
  },
  {
   "cell_type": "code",
   "execution_count": 10,
   "id": "9009a88b-53e1-4c1b-9a13-27c78294b1d3",
   "metadata": {},
   "outputs": [],
   "source": [
    "### This is just for practice, the returned data is actually already in the proper format\n",
    "\n",
    "## turn data from torch tensor into numpy array\n",
    "## detach() takes it away from the device\n",
    "## tensors are default formatted for the training device and need to be detached\n",
    "## before they can be manipulated like real data\n",
    "X_train = train_dataset.data.detach().numpy()\n",
    "y_train = train_dataset.targets.detach().numpy()\n",
    "\n",
    "X_test = test_dataset.data.detach().numpy()\n",
    "y_test = test_dataset.targets.detach().numpy()"
   ]
  },
  {
   "cell_type": "code",
   "execution_count": 11,
   "id": "86f384ab-2f16-48b1-82e2-292243a468cd",
   "metadata": {},
   "outputs": [],
   "source": [
    "### PyTorch uses Dataset objects to load the data during training and testing\n",
    "class MNISTDataset(Dataset):\n",
    "\n",
    "    \"\"\"Data set\"\"\"\n",
    "\n",
    "    def __init__(\n",
    "        self,\n",
    "        X, y, transforms: list=None, is_train: bool=False\n",
    "    ):\n",
    "        '''Assign data'''\n",
    "        self.X, self.y = X, y\n",
    "        self.transforms = transforms\n",
    "        self.is_train = is_train\n",
    "        \n",
    "    def __len__(self):\n",
    "        '''function to get the length of the dataset'''\n",
    "        return len(self.X)\n",
    "\n",
    "    def __getitem__(self, idx: int):\n",
    "        '''return an x, y pair'''\n",
    "        x_, y_ = self.X[idx], self.y[idx]\n",
    "        \n",
    "        return torch.from_numpy(x_).float(), y_\n"
   ]
  },
  {
   "cell_type": "code",
   "execution_count": 12,
   "id": "28a337e4-bc89-4896-8697-1c7106008b8d",
   "metadata": {},
   "outputs": [],
   "source": [
    "# split into validation and training data\n",
    "val_split = 0.2\n",
    "X_train, X_val, y_train, y_val = train_test_split(X_train, y_train, \n",
    "                                                     test_size=val_split,\n",
    "                                                     random_state=123)"
   ]
  },
  {
   "cell_type": "code",
   "execution_count": 13,
   "id": "046ea27b-e53b-4280-9275-7e2326632534",
   "metadata": {},
   "outputs": [],
   "source": [
    "# add channel axes (N, H, W) -> (N, C, H, W) because C = 1 in this case\n",
    "X_train = X_train[:, np.newaxis, :, :]\n",
    "X_test = X_test[:, np.newaxis, :, :]\n",
    "X_val = X_val[:, np.newaxis, :, :]"
   ]
  },
  {
   "cell_type": "code",
   "execution_count": 14,
   "id": "87a32526-dc3c-434d-a149-168cbd83f8da",
   "metadata": {},
   "outputs": [],
   "source": [
    "# get H = W\n",
    "input_xy = X_train.shape[-1]"
   ]
  },
  {
   "cell_type": "code",
   "execution_count": 15,
   "id": "efacdd8f-6ccb-4d9c-a7f1-bdeb6e0ce2e3",
   "metadata": {},
   "outputs": [],
   "source": [
    "batch_size = 64"
   ]
  },
  {
   "cell_type": "code",
   "execution_count": 16,
   "id": "b791caff-72b3-453e-8e42-9825678900ec",
   "metadata": {},
   "outputs": [],
   "source": [
    "##### Now we actually make the dataset and dataloader in PyTorch fashion\n",
    "train_data = MNISTDataset(X_train, y_train, is_train=True,)\n",
    "val_data = MNISTDataset(X_val, y_val)\n",
    "test_data = MNISTDataset(X_test, y_test)\n",
    "\n",
    "# make the loader\n",
    "train_loader = DataLoader(train_data, shuffle=True, batch_size=batch_size)\n",
    "val_loader = DataLoader(val_data, batch_size=batch_size)\n",
    "test_loader = DataLoader(test_data)"
   ]
  },
  {
   "cell_type": "code",
   "execution_count": 17,
   "id": "f9600f1c-2b51-4bf5-a547-e0a2236f5333",
   "metadata": {},
   "outputs": [
    {
     "data": {
      "image/png": "[encoded data removed]",
      "text/plain": [
       "<Figure size 1200x1200 with 4 Axes>"
      ]
     },
     "metadata": {},
     "output_type": "display_data"
    }
   ],
   "source": [
    "## plot some data\n",
    "plot_classes = [classes[y_train[i]] for i in range(4)]\n",
    "plot_image_panel(X_train[:4, 0], labels=plot_classes)"
   ]
  },
  {
   "cell_type": "markdown",
   "id": "a0d66e21-863f-40c7-8fc5-1547bc0f4bd9",
   "metadata": {},
   "source": [
    "## Set up model"
   ]
  },
  {
   "cell_type": "code",
   "execution_count": 18,
   "id": "8ae38c16-92de-4489-a0b5-761590e753c7",
   "metadata": {},
   "outputs": [],
   "source": [
    "num_epochs = 25"
   ]
  },
  {
   "cell_type": "code",
   "execution_count": 19,
   "id": "0de38c48-cd77-4aae-ae5f-717a5a168ded",
   "metadata": {},
   "outputs": [],
   "source": [
    "accelerator_name = \"mps\" ### for MacBooks, \"cuda\" is for cuda, which is more common\n",
    "accelerator_name = \"cpu\" ## (sometimes GPUs don't work with Jupyter)"
   ]
  },
  {
   "cell_type": "code",
   "execution_count": 20,
   "id": "80fc6ada-fe85-4937-88b8-f1d7ec499213",
   "metadata": {},
   "outputs": [],
   "source": [
    "# boilerplate to get GPU if possible\n",
    "if accelerator_name == \"mps\":\n",
    "    device = torch.device(\"mps\" if torch.backends.mps.is_available() else \"cpu\")\n",
    "elif accelerator_name == \"cuda\":\n",
    "    device = torch.device(\"cuda:0\" if torch.cuda.is_available() else \"cpu\")\n",
    "else:\n",
    "    device = torch.device(\"cpu\")\n",
    "\n",
    "# Ensure that all operations are deterministic on GPU (if used) for reproducibility\n",
    "torch.backends.cudnn.determinstic = True\n",
    "torch.backends.cudnn.benchmark = False"
   ]
  },
  {
   "cell_type": "markdown",
   "id": "1edd1629-82bc-4e8f-abec-324465446882",
   "metadata": {},
   "source": [
    "### Models in PyTorch (+Lightning) are Python classes that we have to define\n",
    "\n",
    "Models in PyTorch are all objects (classes) of the superclass torch.nn.Module. To make a model, you must define an object with specific attributes and functions that define the model architecture, the training process, etc. PyTorch Lightning takes care of some of the annoying boilerplate overhead of normal PyTorch, so we'll use that. PyTorch Lightning models are of the superclass pl.LightningModule. \n",
    "\n",
    "In order to make a model in PTL, we'll need to do a few things to the class:\n",
    "\n",
    "1. define an object as a subclass of pl.LightningModule\n",
    "2. define the \\_\\_init\\_\\_ function accept arguments that define the model architecture, optmizer, etc. (make sure you always initialize the superclass first)\n",
    "3. make a forward() method that defines how an input goes through the network\n",
    "4. make training_step(), validation_step(), and test_step() methods according to how you want the model to perform during training and inference\n",
    "5. set up your optimizer using configure_optimzers()\n",
    "6. Depending on the specifics, you may need to add methods such as on_epoch_end(), on_train_epoch_end(), lr_scheduler_step(), etc.\n",
    "7. Add anything else you want your model to do\n",
    "\n",
    "The power and flexibility of PyTorch (Lightning) come from the fact that it treats models as python objects. TensorFlow takes the approach of creating static graphs, which has benefits (e.g. ease of loading), but it can be difficult to make extremely complicated networks and the networks themselves are ultimately just graphs. On the other hand, as an object, PyTorch networks can be made complex very easily. Python is, after all, an object-oriented language. The language itself is geared towards the development and use of objects, so PyTorch naturally integrates itself into Python and is able to exploit the inherent abilities of the language to an extent that the more mathematical concepts behind TensorFlow cannot."
   ]
  },
  {
   "cell_type": "code",
   "execution_count": 21,
   "id": "352a5a1a-4dd7-4a09-b408-7b841fb91d7a",
   "metadata": {},
   "outputs": [],
   "source": [
    "class SimpleMLP(pl.LightningModule):\n",
    "\n",
    "    def __init__(self, \n",
    "                 num_layers: int = 6,\n",
    "                 dropout: float = 0.25,\n",
    "                 mlp_layer_dim: int = 64,\n",
    "                 n_classes: int = 10, \n",
    "                 input_xy: int = 28, \n",
    "                 lr: float = 1e-4, \n",
    "                 weight_decay: float = 0., \n",
    "                 eps: float = 5e-7, \n",
    "                 activation: str = \"gelu\",\n",
    "                 use_wandb: bool=False,\n",
    "                 scheduler_name: str = \"none\",\n",
    "                 step_size: int = 5,\n",
    "                 gamma: float = 0.5,\n",
    "                 ) -> None:\n",
    "        super().__init__()\n",
    "        ### Always need to call above function first in order\n",
    "        ### to properly initialize a model\n",
    "        '''Basic MLP to classify fashion MNIST'''\n",
    "        \n",
    "        # model parameters\n",
    "        self.mlp_dim = mlp_layer_dim\n",
    "        self.activation = activation\n",
    "        self.dropout = dropout\n",
    "        self.num_layers = num_layers\n",
    "        self.input_dim = int(input_xy ** 2)\n",
    "\n",
    "        ## optimizer information\n",
    "        self.lr = lr\n",
    "        self.eps = eps\n",
    "        self.weight_decay = weight_decay\n",
    "        self.scheduler_name = scheduler_name\n",
    "        # if using a scheduler\n",
    "        self.step_size = step_size\n",
    "        self.gamma = gamma\n",
    "\n",
    "        # define a softmax function to use later during inference\n",
    "        self.softmax = nn.Softmax(dim=1)\n",
    "                     \n",
    "        # log using WandB or TensorBoard\n",
    "        self.use_wandb = use_wandb\n",
    "        \n",
    "        # functions that keep track of accuracy during validation and testing\n",
    "        self.val_accuracy = torchmetrics.Accuracy(task=\"multiclass\", num_classes=n_classes)\n",
    "        self.test_accuracy = torchmetrics.Accuracy(task=\"multiclass\", num_classes=n_classes)\n",
    "\n",
    "        # what the input data looks like (allows construction of graph for logging)\n",
    "        # (batch_size, channels, height, width)\n",
    "        self.example_input_array = torch.zeros(\n",
    "            (1, self.input_dim),\n",
    "            dtype=torch.float32\n",
    "        )\n",
    "        \n",
    "        #### Construct the layers #####\n",
    "        ## get input layer\n",
    "        ## shape = (C, H, W) -> (H * W because of flattening)\n",
    "        self.input_layer =  nn.Linear(self.input_dim, self.mlp_dim)\n",
    "        \n",
    "        ## make MLP hidden layers\n",
    "        self.mlp_layers = [nn.GELU() if self.activation == \"gelu\" else nn.ReLU()]\n",
    "        for i in range(num_layers):\n",
    "            self.mlp_layers.append(nn.Linear(self.mlp_dim, self.mlp_dim))\n",
    "            ## add activation and dropout for hidden layers\n",
    "            if self.activation == \"gelu\":\n",
    "                self.mlp_layers.append(nn.GELU())\n",
    "            ## relu as default\n",
    "            else:\n",
    "                self.mlp_layers.append(nn.ReLU())\n",
    "            self.mlp_layers.append(nn.Dropout(dropout))\n",
    "\n",
    "        ## turn into module\n",
    "        self.layers = nn.ModuleList(self.mlp_layers)\n",
    "        \n",
    "        # final output layer\n",
    "        self.output = nn.Linear(mlp_layer_dim, n_classes)\n",
    "\n",
    "        ### initialize weights of layers\n",
    "        self.init_weights()\n",
    "\n",
    "    def forward(self, x):\n",
    "        '''Determines how data is passed through the network, \n",
    "           i.e creates the connectivity of the network'''\n",
    "        \n",
    "        ## send through input layer\n",
    "        x = self.input_layer(x)\n",
    "        ## pass through hidden layers\n",
    "        for layer in self.layers:\n",
    "            x = layer(x)\n",
    "        # return output\n",
    "        x = self.output(x)\n",
    "\n",
    "        return x\n",
    "\n",
    "    def init_weights(self) -> None:\n",
    "        ### does some fancy layer weight initialization\n",
    "        for layer in self.layers:\n",
    "            if isinstance(layer, nn.Linear):\n",
    "                nn.init.xavier_uniform_(layer.weight)\n",
    "\n",
    "    def process_batch(self, batch, step: str = \"train\"):\n",
    "        \"\"\"Passes and logs a batch for a given type of step (test, train, validation)\"\"\"\n",
    "        \n",
    "        # get data\n",
    "        x, y = batch\n",
    "\n",
    "        ### need to flatten the input data in order to pass it through (it's an image at first)\n",
    "        x = x.view((x.size()[0], x.size()[-1] ** 2))\n",
    "        \n",
    "        # pass through network\n",
    "        # logits have no activation applied\n",
    "        logits = self(x)\n",
    "        \n",
    "        ## get loss\n",
    "        ## F.cross_entropy applies softmax then gets cross entropy,\n",
    "        ## so we don't need to activate the network output\n",
    "        loss = F.cross_entropy(logits, y) \n",
    "        \n",
    "        # record the loss\n",
    "        self.log(f\"{step}_loss\", loss)\n",
    "        if step in [\"val\", \"test\"]:\n",
    "            scores = self.softmax(logits)\n",
    "            # predicted class is the one with the maximum output probability\n",
    "            preds = torch.argmax(scores, dim=1)\n",
    "            # get accuracy\n",
    "            if step == \"val\":\n",
    "                self.val_accuracy.update(preds, y)\n",
    "                # bring it off of the GPU in order to do calculations\n",
    "                acc = float(self.val_accuracy(preds, y).detach().cpu().numpy().item())\n",
    "            else:\n",
    "                self.test_accuracy.update(preds, y)\n",
    "                acc = float(self.test_accuracy(preds, y).detach().cpu().numpy().item())\n",
    "            self.log(f\"{step}_acc\", acc) \n",
    "        \n",
    "        # upload the loss to WandB\n",
    "        if self.use_wandb:\n",
    "            log_dict = {f\"{step}_loss\": loss,}\n",
    "            if step in [\"val\", \"test\"]:\n",
    "                log_dict[f\"{step}_accuracy\"] = acc\n",
    "            wandb.log(log_dict)\n",
    "                    \n",
    "        return loss\n",
    "    \n",
    "    def training_step(self, batch, batch_idx):\n",
    "        \"\"\"What do do with a training batch\"\"\"\n",
    "        return self.process_batch(batch, step=\"train\")\n",
    "\n",
    "    def validation_step(self, batch, batch_idx):\n",
    "        '''Validation step (at the end of each epoch)'''\n",
    "        return self.process_batch(batch, step=\"val\")\n",
    "        \n",
    "    def test_step(self, batch, batch_idx):\n",
    "        '''Test step is essentially the same as a validation step in this instance'''\n",
    "        return self.process_batch(batch, step=\"test\")\n",
    "\n",
    "    def configure_optimizers(self) -> (list, list):\n",
    "        \"\"\"Set up the optimizer and potential learning rate scheduler\"\"\"\n",
    "        self.optimizer = torch.optim.AdamW(\n",
    "            self.parameters(),\n",
    "            lr=self.lr,\n",
    "            eps=self.eps,\n",
    "            weight_decay=self.weight_decay,\n",
    "        )\n",
    "\n",
    "        if self.scheduler_name == \"none\":\n",
    "            return self.optimizer\n",
    "\n",
    "        ### this decreases the learning rate by a factor of gamma every step_size\n",
    "        self.scheduler = MultiStepLR(\n",
    "            self.optimizer,\n",
    "            list(range(0, self.trainer.max_epochs, self.step_size)),\n",
    "            gamma=self.gamma,\n",
    "        )\n",
    "\n",
    "        return [self.optimizer], [{\"scheduler\": self.scheduler, \"interval\": \"epoch\"}]\n",
    "        \n",
    "    #### need to add these two things in case the scheduler is used ####\n",
    "    def lr_scheduler_step(self, scheduler, metric) -> None:\n",
    "        if self.scheduler_name != \"none\":\n",
    "            self.scheduler.step()\n",
    "\n",
    "    def on_epoch_end(self) -> None:\n",
    "        if self.scheduler_name != \"none\":\n",
    "            self.scheduler.step()\n"
   ]
  },
  {
   "cell_type": "markdown",
   "id": "9584e71b-f54c-4fec-8598-c55d93efa89d",
   "metadata": {},
   "source": [
    "### Choose model hyperparameters"
   ]
  },
  {
   "cell_type": "code",
   "execution_count": 22,
   "id": "e64a5ea5-9b3d-4c96-ab88-51cd9db09a8b",
   "metadata": {},
   "outputs": [],
   "source": [
    "# model hyper parameters \n",
    "lr = 1e-4\n",
    "eps = 5e-7\n",
    "weight_decay = 1e-8\n",
    "num_layers = 6\n",
    "dropout = 0.25\n",
    "mlp_layer_dim = 128\n",
    "n_classes = 10\n",
    "activation = \"gelu\"\n",
    "input_xy = X_train.shape[-1]\n",
    "scheduler_name = \"step\"\n",
    "gamma = 0.5\n",
    "step_size = 5\n",
    "\n",
    "## WandB stuff\n",
    "## we aren't going to use wandb because it requires an account, but you should see how to use it\n",
    "# log with WandB or TensorBoard\n",
    "use_wandb = False\n",
    "# WandB project name\n",
    "project_name = \"SimpleMNIST_MLP\"\n",
    "# WandB lab name\n",
    "entity = \"\""
   ]
  },
  {
   "cell_type": "code",
   "execution_count": 23,
   "id": "8073be5d-50fa-4b86-80d6-0de942fdfc81",
   "metadata": {},
   "outputs": [],
   "source": [
    "mlp_hparams = {'lr': lr,\n",
    "                'eps': eps,\n",
    "                'weight_decay': weight_decay,\n",
    "                'num_layers': num_layers,\n",
    "                'dropout': dropout,\n",
    "                'input_xy': input_xy,\n",
    "                'use_wandb': False,\n",
    "                'activation': activation,\n",
    "                'mlp_layer_dim': mlp_layer_dim,\n",
    "                'n_classes': n_classes,\n",
    "                'scheduler_name': scheduler_name,\n",
    "                'gamma': gamma,\n",
    "                'step_size': step_size,\n",
    "}"
   ]
  },
  {
   "cell_type": "code",
   "execution_count": 24,
   "id": "74c9b692-5cbc-41ed-af96-8493b29c4a64",
   "metadata": {},
   "outputs": [],
   "source": [
    "mlp_model = SimpleMLP(\n",
    "                      num_layers=num_layers, \n",
    "                      mlp_layer_dim=mlp_layer_dim,\n",
    "                      n_classes=n_classes, \n",
    "                      input_xy=input_xy, \n",
    "                      activation=activation,\n",
    "                      use_wandb=use_wandb,\n",
    "                      dropout=dropout, \n",
    "                      eps=eps, \n",
    "                      lr=lr, \n",
    "                      weight_decay=weight_decay,\n",
    "                      scheduler_name=scheduler_name,\n",
    "                      gamma=gamma,\n",
    "                      step_size=step_size,\n",
    "                )\n"
   ]
  },
  {
   "cell_type": "markdown",
   "id": "1e7e93cd-7c86-491b-8466-ecdf5a2ecf96",
   "metadata": {},
   "source": [
    "## Train"
   ]
  },
  {
   "cell_type": "code",
   "execution_count": 25,
   "id": "62fcd411-2963-482e-8c3a-18ac571f69cf",
   "metadata": {},
   "outputs": [],
   "source": [
    "if not use_wandb:\n",
    "    %load_ext tensorboard\n",
    "    mlp_logger = TensorBoardLogger(\"mlp_logs\", name=\"simple_mnist_fashion_mlp\")\n",
    "    run_name = \"MLP\"\n",
    "else:\n",
    "    logger_kwargs = {\n",
    "        \"resume\": \"allow\",\n",
    "        \"config\": model_hparams,\n",
    "    }\n",
    "    mlp_logger = WandbLogger(project=project_name, entity=entity, **logger_kwargs)\n",
    "    run_name = logger.experiment.name"
   ]
  },
  {
   "cell_type": "code",
   "execution_count": 26,
   "id": "840097f9-580b-444d-973f-e834fd37df2f",
   "metadata": {},
   "outputs": [
    {
     "name": "stderr",
     "output_type": "stream",
     "text": [
      "GPU available: True (mps), used: True\n",
      "TPU available: False, using: 0 TPU cores\n",
      "IPU available: False, using: 0 IPUs\n",
      "HPU available: False, using: 0 HPUs\n"
     ]
    }
   ],
   "source": [
    "#### necessary for newer PTL versions\n",
    "devices = 1\n",
    "accelerator = \"gpu\" if devices == 1 else \"cpu\"\n",
    "\n",
    "# make the trainer\n",
    "mlp_trainer = pl.Trainer(\n",
    "    devices=devices,\n",
    "    accelerator=accelerator,\n",
    "    max_epochs=num_epochs,\n",
    "    log_every_n_steps=1,\n",
    "    logger=mlp_logger,\n",
    "    ## callbacks are done at the end of each epoch\n",
    "    callbacks=[\n",
    "        # saves the model at the end of the epoch if it has the best validation accuracy\n",
    "        ### we aren't actually going to do this in order to avoid saving models\n",
    "        # ModelCheckpoint(\n",
    "        #     save_weights_only=False,\n",
    "        #     mode=\"min\",\n",
    "        #     monitor=\"val_acc\",\n",
    "        #     save_top_k=1,\n",
    "        #     every_n_epochs=1,\n",
    "        #     save_on_train_epoch_end=False,\n",
    "        #     dirpath=f\"/MLP_Checkpoints/{run_name}/\",\n",
    "        #     filename=f\"mlp_checkpoint_{run_name}\",\n",
    "        # ),\n",
    "        # log the learning rate during training\n",
    "        LearningRateMonitor(\"epoch\"),\n",
    "        # progress bar during training\n",
    "        progress.TQDMProgressBar(refresh_rate=1),\n",
    "        # stops if the validation accuracy doesn't improve in 10 epochs\n",
    "        EarlyStopping(\n",
    "            monitor=\"val_acc\",\n",
    "            min_delta=0,\n",
    "            patience=10,\n",
    "            verbose=False,\n",
    "            mode=\"min\",\n",
    "        ),\n",
    "    ],\n",
    ")\n",
    "mlp_trainer.logger._log_graph = True\n",
    "mlp_trainer.logger._default_hp_metric = None"
   ]
  },
  {
   "cell_type": "code",
   "execution_count": 27,
   "id": "39d43570-8b85-44a1-a8dd-6eaa06d6b2b0",
   "metadata": {},
   "outputs": [
    {
     "name": "stderr",
     "output_type": "stream",
     "text": [
      "\n",
      "  | Name          | Type               | Params | In sizes | Out sizes\n",
      "----------------------------------------------------------------------------\n",
      "0 | softmax       | Softmax            | 0      | ?        | ?        \n",
      "1 | val_accuracy  | MulticlassAccuracy | 0      | ?        | ?        \n",
      "2 | test_accuracy | MulticlassAccuracy | 0      | ?        | ?        \n",
      "3 | input_layer   | Linear             | 100 K  | [1, 784] | [1, 128] \n",
      "4 | layers        | ModuleList         | 99.1 K | ?        | ?        \n",
      "5 | output        | Linear             | 1.3 K  | [1, 128] | [1, 10]  \n",
      "----------------------------------------------------------------------------\n",
      "200 K     Trainable params\n",
      "0         Non-trainable params\n",
      "200 K     Total params\n",
      "0.803     Total estimated model params size (MB)\n"
     ]
    },
    {
     "data": {
      "application/vnd.jupyter.widget-view+json": {
       "model_id": "",
       "version_major": 2,
       "version_minor": 0
      },
      "text/plain": [
       "Sanity Checking: 0it [00:00, ?it/s]"
      ]
     },
     "metadata": {},
     "output_type": "display_data"
    },
    {
     "name": "stderr",
     "output_type": "stream",
     "text": [
      "/Users/jasonterry/miniforge3/envs/pytorch_python10/lib/python3.10/site-packages/pytorch_lightning/trainer/connectors/data_connector.py:432: PossibleUserWarning: The dataloader, val_dataloader, does not have many workers which may be a bottleneck. Consider increasing the value of the `num_workers` argument` (try 10 which is the number of cpus on this machine) in the `DataLoader` init to improve performance.\n",
      "  rank_zero_warn(\n",
      "/Users/jasonterry/miniforge3/envs/pytorch_python10/lib/python3.10/site-packages/torch/functional.py:799: UserWarning: MPS: _unique2 op is supported natively starting from macOS 13.0. Falling back on CPU. This may have performace implications. (Triggered internally at /Users/runner/work/pytorch/pytorch/pytorch/aten/src/ATen/native/mps/operations/Unique.mm:354.)\n",
      "  output, inverse_indices, counts = torch._unique2(\n",
      "/Users/jasonterry/miniforge3/envs/pytorch_python10/lib/python3.10/site-packages/torchmetrics/functional/classification/accuracy.py:65: UserWarning: MPS: no support for int64 reduction ops, casting it to int32 (Triggered internally at /Users/runner/work/pytorch/pytorch/pytorch/aten/src/ATen/native/mps/operations/ReduceOps.mm:144.)\n",
      "  tp = tp.sum(dim=0 if multidim_average == \"global\" else 1)\n",
      "/Users/jasonterry/miniforge3/envs/pytorch_python10/lib/python3.10/site-packages/pytorch_lightning/trainer/connectors/data_connector.py:432: PossibleUserWarning: The dataloader, train_dataloader, does not have many workers which may be a bottleneck. Consider increasing the value of the `num_workers` argument` (try 10 which is the number of cpus on this machine) in the `DataLoader` init to improve performance.\n",
      "  rank_zero_warn(\n"
     ]
    },
    {
     "data": {
      "application/vnd.jupyter.widget-view+json": {
       "model_id": "11741b0548474738a0030925dd27b1da",
       "version_major": 2,
       "version_minor": 0
      },
      "text/plain": [
       "Training: 0it [00:00, ?it/s]"
      ]
     },
     "metadata": {},
     "output_type": "display_data"
    },
    {
     "data": {
      "application/vnd.jupyter.widget-view+json": {
       "model_id": "",
       "version_major": 2,
       "version_minor": 0
      },
      "text/plain": [
       "Validation: 0it [00:00, ?it/s]"
      ]
     },
     "metadata": {},
     "output_type": "display_data"
    },
    {
     "data": {
      "application/vnd.jupyter.widget-view+json": {
       "model_id": "",
       "version_major": 2,
       "version_minor": 0
      },
      "text/plain": [
       "Validation: 0it [00:00, ?it/s]"
      ]
     },
     "metadata": {},
     "output_type": "display_data"
    },
    {
     "data": {
      "application/vnd.jupyter.widget-view+json": {
       "model_id": "",
       "version_major": 2,
       "version_minor": 0
      },
      "text/plain": [
       "Validation: 0it [00:00, ?it/s]"
      ]
     },
     "metadata": {},
     "output_type": "display_data"
    },
    {
     "data": {
      "application/vnd.jupyter.widget-view+json": {
       "model_id": "",
       "version_major": 2,
       "version_minor": 0
      },
      "text/plain": [
       "Validation: 0it [00:00, ?it/s]"
      ]
     },
     "metadata": {},
     "output_type": "display_data"
    },
    {
     "data": {
      "application/vnd.jupyter.widget-view+json": {
       "model_id": "",
       "version_major": 2,
       "version_minor": 0
      },
      "text/plain": [
       "Validation: 0it [00:00, ?it/s]"
      ]
     },
     "metadata": {},
     "output_type": "display_data"
    },
    {
     "data": {
      "application/vnd.jupyter.widget-view+json": {
       "model_id": "",
       "version_major": 2,
       "version_minor": 0
      },
      "text/plain": [
       "Validation: 0it [00:00, ?it/s]"
      ]
     },
     "metadata": {},
     "output_type": "display_data"
    },
    {
     "data": {
      "application/vnd.jupyter.widget-view+json": {
       "model_id": "",
       "version_major": 2,
       "version_minor": 0
      },
      "text/plain": [
       "Validation: 0it [00:00, ?it/s]"
      ]
     },
     "metadata": {},
     "output_type": "display_data"
    },
    {
     "data": {
      "application/vnd.jupyter.widget-view+json": {
       "model_id": "",
       "version_major": 2,
       "version_minor": 0
      },
      "text/plain": [
       "Validation: 0it [00:00, ?it/s]"
      ]
     },
     "metadata": {},
     "output_type": "display_data"
    },
    {
     "data": {
      "application/vnd.jupyter.widget-view+json": {
       "model_id": "",
       "version_major": 2,
       "version_minor": 0
      },
      "text/plain": [
       "Validation: 0it [00:00, ?it/s]"
      ]
     },
     "metadata": {},
     "output_type": "display_data"
    },
    {
     "data": {
      "application/vnd.jupyter.widget-view+json": {
       "model_id": "",
       "version_major": 2,
       "version_minor": 0
      },
      "text/plain": [
       "Validation: 0it [00:00, ?it/s]"
      ]
     },
     "metadata": {},
     "output_type": "display_data"
    },
    {
     "data": {
      "application/vnd.jupyter.widget-view+json": {
       "model_id": "",
       "version_major": 2,
       "version_minor": 0
      },
      "text/plain": [
       "Validation: 0it [00:00, ?it/s]"
      ]
     },
     "metadata": {},
     "output_type": "display_data"
    }
   ],
   "source": [
    "mlp_trainer.fit(mlp_model, train_dataloaders=train_loader, val_dataloaders=val_loader)"
   ]
  },
  {
   "cell_type": "markdown",
   "id": "020d61c0-e0eb-4007-82fe-0c9299770a2b",
   "metadata": {},
   "source": [
    "## Test"
   ]
  },
  {
   "cell_type": "code",
   "execution_count": 28,
   "id": "e6f94e91-1947-4f57-8c9b-8b204eb6dabd",
   "metadata": {},
   "outputs": [
    {
     "name": "stderr",
     "output_type": "stream",
     "text": [
      "/Users/jasonterry/miniforge3/envs/pytorch_python10/lib/python3.10/site-packages/pytorch_lightning/trainer/connectors/data_connector.py:432: PossibleUserWarning: The dataloader, test_dataloader, does not have many workers which may be a bottleneck. Consider increasing the value of the `num_workers` argument` (try 10 which is the number of cpus on this machine) in the `DataLoader` init to improve performance.\n",
      "  rank_zero_warn(\n"
     ]
    },
    {
     "data": {
      "application/vnd.jupyter.widget-view+json": {
       "model_id": "6df0f7b85e1a47a08c8ec15046037cc6",
       "version_major": 2,
       "version_minor": 0
      },
      "text/plain": [
       "Testing: 0it [00:00, ?it/s]"
      ]
     },
     "metadata": {},
     "output_type": "display_data"
    },
    {
     "name": "stdout",
     "output_type": "stream",
     "text": [
      "────────────────────────────────────────────────────────────────────────────────────────────────────────────────────────\n",
      "       Test metric             DataLoader 0\n",
      "────────────────────────────────────────────────────────────────────────────────────────────────────────────────────────\n",
      "        test_acc            0.8163000345230103\n",
      "        test_loss           0.5057256817817688\n",
      "────────────────────────────────────────────────────────────────────────────────────────────────────────────────────────\n",
      "[{'test_loss': 0.5057256817817688, 'test_acc': 0.8163000345230103}]\n"
     ]
    }
   ],
   "source": [
    "test_results = mlp_trainer.test(mlp_model, test_loader)\n",
    "print(test_results)"
   ]
  },
  {
   "cell_type": "code",
   "execution_count": 29,
   "id": "7d7f1da5-dc55-4852-ab28-7d5d2933f839",
   "metadata": {},
   "outputs": [
    {
     "data": {
      "text/html": [
       "\n",
       "      <iframe id=\"tensorboard-frame-44867db30d67b366\" width=\"100%\" height=\"800\" frameborder=\"0\">\n",
       "      </iframe>\n",
       "      <script>\n",
       "        (function() {\n",
       "          const frame = document.getElementById(\"tensorboard-frame-44867db30d67b366\");\n",
       "          const url = new URL(\"/\", window.location);\n",
       "          const port = 6006;\n",
       "          if (port) {\n",
       "            url.port = port;\n",
       "          }\n",
       "          frame.src = url;\n",
       "        })();\n",
       "      </script>\n",
       "    "
      ],
      "text/plain": [
       "<IPython.core.display.HTML object>"
      ]
     },
     "metadata": {},
     "output_type": "display_data"
    }
   ],
   "source": [
    "## open up TensorBoard to see metrics\n",
    "if not use_wandb:\n",
    "    %tensorboard --logdir mlp_logs --port 6006"
   ]
  },
  {
   "cell_type": "markdown",
   "id": "a665f2fd-8424-47ab-ba46-7fac7dbd0da3",
   "metadata": {},
   "source": [
    "## Exercise\n",
    "\n",
    "Use the classic [Higgs dataset](https://archive.ics.uci.edu/dataset/280/higgs) (~GB) to train a binary classifier that determines if a Higgs Boson is present in the LHC event. Play around with using only a subset of the features for each data point. "
   ]
  }
 ],
 "metadata": {
  "kernelspec": {
   "display_name": "Python 3 (ipykernel)",
   "language": "python",
   "name": "python3"
  },
  "language_info": {
   "codemirror_mode": {
    "name": "ipython",
    "version": 3
   },
   "file_extension": ".py",
   "mimetype": "text/x-python",
   "name": "python",
   "nbconvert_exporter": "python",
   "pygments_lexer": "ipython3",
   "version": "3.10.10"
  }
 },
 "nbformat": 4,
 "nbformat_minor": 5
}
