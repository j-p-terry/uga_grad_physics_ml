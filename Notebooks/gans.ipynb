{
 "cells": [
  {
   "cell_type": "markdown",
   "id": "cbcf8096-377a-481e-9876-2f6569773814",
   "metadata": {},
   "source": [
    "# Adversarial Learning"
   ]
  },
  {
   "cell_type": "markdown",
   "id": "9ddde3e0-43c7-4e13-9f6e-029b612c6c22",
   "metadata": {},
   "source": [
    "Adversarial learning has become one of the most powerful and important tools in machine learning. It is the foundation for many types of generative models (e.g., GANs) as well as more advanced methods, such as domain adaptation. We'll stick to GANs, but the general framework is pretty similar.\n",
    "\n",
    "The basic idea is very simple: train one model to lie and train another model to figure out if the other model is lying. These models are \"adversaries\" in the sense that they are trying to beat the other (by tricking or calling out). As they train, the classifier learns what real data looks like and the generator learns how to create realistic looking data.\n",
    "\n",
    "1) Give the classifier some real data, reward it for saying it's real\n",
    "2) Give the classifier some data that comes from the generator, reward it for saying it's faked\n",
    "3) Feed random noise into generator, send the output into the classifier, reward generator if the classifier says it's real\n",
    "\n",
    "Through this loop, the classifier learns how to detect lies better and the generator figures out how to lie more convincingly. This encourages the generator to make data that is as close to the real data as possible, even though the input is simply noise. In other words, it learns how to take noise and turn it into convincing data.\n",
    "\n",
    "<div>\n",
    "<img src=\"imgs/gan.jpg\" width=\"1000\" style=\"display=block; margin:auto\" align=\"center\"/>\n",
    "</div>\n",
    "\n",
    "https://www.xenonstack.com/insights/generative-adversarial-networks"
   ]
  },
  {
   "cell_type": "markdown",
   "id": "8c5eb26e-3f8a-4226-b6d3-54c784c69102",
   "metadata": {},
   "source": [
    "<div>\n",
    "<img src=\"imgs/stylegan.jpeg\" width=\"600\" style=\"display=block; margin:auto\" align=\"center\"/>\n",
    "</div>\n",
    "GAN image (Wikipedia)"
   ]
  },
  {
   "cell_type": "markdown",
   "id": "2bbf8e33-ea49-49b4-942c-28695449cc40",
   "metadata": {},
   "source": [
    "Nowadays, diffusion models (e.g., DALL-E) have become increasingly used in image generation, but GANs and adverasial learning in general still have an important place."
   ]
  },
  {
   "cell_type": "markdown",
   "id": "e5857392-d983-496d-95ed-130e0c611c7a",
   "metadata": {},
   "source": [
    "### Domain adaptation"
   ]
  },
  {
   "cell_type": "markdown",
   "id": "69531c37-323c-4e76-a898-cdb55869467f",
   "metadata": {},
   "source": [
    "Domain adaptation is another interesting area for adversarial learning. In combines both adversarial learning and encoding/decoding to allow models to perform across different domains (e.g., different telescopes, observations+simulations,...)."
   ]
  },
  {
   "cell_type": "markdown",
   "id": "2e233f3d-bae7-41a4-a6c2-dc7dae064005",
   "metadata": {},
   "source": [
    "<div>\n",
    "<img src=\"imgs/domain_adaptation_results.jpg\" width=\"1200\" style=\"display=block; margin:auto\" align=\"center\"/>\n",
    "</div>\n",
    "(Alexander et al. 2023)"
   ]
  },
  {
   "cell_type": "markdown",
   "id": "83694e9c-8dea-477c-b1ef-b4666adfec28",
   "metadata": {},
   "source": [
    "The idea is to create an encoder-decoder model for a clean (\"source\") dataset, e.g., raw simulations. After this is trained, a dirty (\"target\") dataset, e.g., simulations with observational effects, is used to train another encoder. This encoder is trained adversarially to map the target dataset into the same latent space as the source dataset. In other words, an encoder is trained such that a classifier can't tell the difference between the encoded source and target data. When this is now passed through the decoder, the hard problem (target data) is now as easy as the easier problem (source data). This has been shown to have significant improvements over simply training on the target data."
   ]
  },
  {
   "cell_type": "markdown",
   "id": "cab99854-cb77-499b-b490-c34acb734dab",
   "metadata": {},
   "source": [
    "# Run"
   ]
  },
  {
   "cell_type": "code",
   "execution_count": 1,
   "id": "92c7174e-9526-49ee-ac22-aabe1fce923f",
   "metadata": {},
   "outputs": [],
   "source": [
    "# plotting a prameters\n",
    "scale_factor = 1.5\n",
    "\n",
    "labels = 16 * scale_factor\n",
    "ticks = 10 * scale_factor\n",
    "# ticks = 10 * scale_factor\n",
    "legends = 12 * scale_factor\n",
    "text = 14 * scale_factor\n",
    "titles = 22 * scale_factor\n",
    "lw = 3 * scale_factor\n",
    "ps = 200 * scale_factor\n",
    "cmap = 'magma'\n",
    "\n",
    "colors = ['firebrick', 'steelblue', 'darkorange', 'darkviolet', 'cyan', 'magenta', 'darkgreen', 'deeppink']\n",
    "markers = ['x', 'o', '+', '>', '*', 'D', '4']\n",
    "linestyles = ['-', '--', ':', '-.']"
   ]
  },
  {
   "cell_type": "code",
   "execution_count": 2,
   "id": "ff14fed2-13ce-4cc9-b896-ad55ce737793",
   "metadata": {},
   "outputs": [],
   "source": [
    "import random\n",
    "\n",
    "import matplotlib.pyplot as plt\n",
    "import numpy as np\n",
    "\n",
    "import pandas as pd\n",
    "import PIL\n",
    "\n",
    "import pytorch_lightning as pl\n",
    "from pytorch_lightning.callbacks import LearningRateMonitor, ModelCheckpoint, progress\n",
    "from pytorch_lightning.callbacks.early_stopping import EarlyStopping\n",
    "from pytorch_lightning.loggers import WandbLogger, TensorBoardLogger\n",
    "\n",
    "from sklearn.model_selection import train_test_split\n",
    "\n",
    "import torch\n",
    "from torch import nn, Tensor\n",
    "import torch.nn.functional as F\n",
    "import torch.optim as optim\n",
    "from torch.optim.lr_scheduler import MultiStepLR\n",
    "from torch.utils.data import DataLoader, Dataset, RandomSampler, random_split\n",
    "\n",
    "import torchmetrics\n",
    "\n",
    "import torchvision\n",
    "import torchvision.datasets as datasets\n",
    "import torchvision.transforms as T"
   ]
  },
  {
   "cell_type": "code",
   "execution_count": 3,
   "id": "2846ea57-5c58-450e-83b8-03be2cc61dd1",
   "metadata": {},
   "outputs": [
    {
     "data": {
      "text/plain": [
       "<torch._C.Generator at 0x16743e590>"
      ]
     },
     "execution_count": 3,
     "metadata": {},
     "output_type": "execute_result"
    }
   ],
   "source": [
    "### Set seed for reproducibility\n",
    "np.random.seed(123)\n",
    "random.seed(123)\n",
    "torch.manual_seed(123)"
   ]
  },
  {
   "cell_type": "markdown",
   "id": "b39a9765-378a-43e7-900e-17ca30fc2d66",
   "metadata": {},
   "source": [
    "## Load data"
   ]
  },
  {
   "cell_type": "code",
   "execution_count": 4,
   "id": "ab0bacc2-e140-405e-8d0e-755abbd4507d",
   "metadata": {},
   "outputs": [],
   "source": [
    "## Define loading transformations\n",
    "transforms = T.Compose([\n",
    "    T.ToTensor(),\n",
    "    # T.Normalize(mean=(0.5, 0.5, 0.5), std=(0.5, 0.5, 0.5)),\n",
    "])\n",
    "\n",
    "### Download fashion MNIST\n",
    "train_dataset = datasets.FashionMNIST(\n",
    "    root='./data', train=True, download=True,\n",
    "    transform=transforms)\n",
    "test_dataset = datasets.FashionMNIST(\n",
    "    root='./data', train=False, download=True,\n",
    "    transform=transforms)\n",
    "\n",
    "### make data loaders\n",
    "batch_size = 32\n",
    "train_loader = torch.utils.data.DataLoader(dataset=train_dataset, batch_size=batch_size, shuffle=True)\n",
    "test_loader = torch.utils.data.DataLoader(dataset=test_dataset, batch_size=batch_size, shuffle=False)"
   ]
  },
  {
   "cell_type": "code",
   "execution_count": 5,
   "id": "cbcbf8b7-ea95-45d3-a4a0-8754f1d4ff92",
   "metadata": {},
   "outputs": [
    {
     "name": "stderr",
     "output_type": "stream",
     "text": [
      "/Users/jasonterry/miniforge3/envs/pytorch_python10/lib/python3.10/site-packages/torchvision/datasets/mnist.py:75: UserWarning: train_data has been renamed data\n",
      "  warnings.warn(\"train_data has been renamed data\")\n"
     ]
    }
   ],
   "source": [
    "xy = int(train_dataset.train_data.size(1) * train_dataset.train_data.size(2))"
   ]
  },
  {
   "cell_type": "markdown",
   "id": "553b584a-1dcb-4138-bc44-d831dbabc925",
   "metadata": {},
   "source": [
    "## Define models"
   ]
  },
  {
   "cell_type": "markdown",
   "id": "ee3175b3-3a47-4c16-a9e6-7cfe1fbc44f8",
   "metadata": {},
   "source": [
    "### Individual models"
   ]
  },
  {
   "cell_type": "code",
   "execution_count": 6,
   "id": "c498f004-30bf-4d9b-a1eb-677bdd1a9eea",
   "metadata": {},
   "outputs": [],
   "source": [
    "class MLP(pl.LightningModule):\n",
    "    def __init__(\n",
    "        self,\n",
    "        input_dim: int = 784,\n",
    "        output_dim: int = 1,\n",
    "        lr: float = 1e-4,\n",
    "        weight_decay: float = 1e-8,\n",
    "        adam_eps: float = 1e-7,\n",
    "        weight_init: str = \"xavier\",\n",
    "        num_mlp_layers: int = 5,\n",
    "        mlp_layer_dim: int = 128,\n",
    "        activation: str = \"gelu\",\n",
    "        leaky_relu_frac: float = 0.2,\n",
    "        dropout: float = 0.2,\n",
    "        loss = nn.BCELoss(),\n",
    "        feature_factor: float = 2.,\n",
    "        final_activation = nn.Sigmoid(),\n",
    "    ) -> None:\n",
    "        super().__init__()\n",
    "        \n",
    "        self.input_dim = input_dim\n",
    "        self.output_dim = output_dim\n",
    "\n",
    "        self.lr = lr\n",
    "        self.weight_decay = weight_decay\n",
    "        self.adam_eps = adam_eps\n",
    "        self.weight_init = weight_init\n",
    "        self.num_mlp_layers = num_mlp_layers\n",
    "        self.mlp_layer_dim = mlp_layer_dim\n",
    "        self.dropout = dropout\n",
    "\n",
    "        self.layers = nn.ModuleList()\n",
    "        self.output_layers = nn.ModuleList()\n",
    "        self.activation_layers = nn.ModuleList()\n",
    "\n",
    "        for _i in range(num_mlp_layers):\n",
    "            if _i > 0:\n",
    "                # import pdb; pdb.set_trace()\n",
    "                self.layers.append(nn.Linear(self.layers[-1].out_features, \n",
    "                                             int(feature_factor*self.layers[-1].out_features)))\n",
    "            else:\n",
    "                self.layers.append(nn.Linear(self.input_dim, mlp_layer_dim))\n",
    "\n",
    "            self.activation_layers.append(\n",
    "                nn.GELU() if activation == \"gelu\" else nn.LeakyReLU(leaky_relu_frac, inplace=True)\n",
    "            )\n",
    "            self.activation_layers.append(nn.Dropout(dropout))\n",
    "\n",
    "        self.output_layers.append(nn.Linear(self.layers[-1].out_features, self.output_dim))\n",
    "        self.output_layers.append(final_activation)\n",
    "\n",
    "        self.init_weights()  # Initialize the weights\n",
    "\n",
    "        self.loss = loss\n",
    "\n",
    "    def init_weights(self):\n",
    "        for layer in self.layers:\n",
    "            if isinstance(layer, nn.Linear):\n",
    "                if self.weight_init == \"xavier\":\n",
    "                    nn.init.xavier_uniform_(layer.weight)  # Apply Xavier initialization\n",
    "                elif self.weight_init == \"kaiming\":\n",
    "                    nn.init.kaiming_uniform_(layer.weight)  # Apply Kaiming initialization\n",
    "                elif self.weight_init == \"orthogonal\":\n",
    "                    nn.init.orthogonal_(layer.weight)  # Apply orthogonal initialization\n",
    "\n",
    "                nn.init.constant_(layer.bias, 0.0)\n",
    "\n",
    "    def forward(self, z):\n",
    "        for i, layer in enumerate(self.layers):\n",
    "            z = layer(z)\n",
    "            z = self.activation_layers[i](z)\n",
    "        for layer in self.output_layers:\n",
    "            z = layer(z)\n",
    "        return z\n",
    "\n",
    "    # def configure_optimizers(self):\n",
    "    #     self.optimizer = torch.optim.Adam(\n",
    "    #         self.parameters(), lr=self.lr, eps=self.adam_eps, weight_decay=self.weight_decay\n",
    "    #     )\n",
    "    #     return self.optimizer\n",
    "\n",
    "\n",
    "class Generator(pl.LightningModule):\n",
    "    def __init__(\n",
    "        self,\n",
    "        input_dim: int = 64,\n",
    "        output_dim: int = 784,\n",
    "        lr: float = 1e-4,\n",
    "        weight_decay: float = 1e-8,\n",
    "        adam_eps: float = 1e-7,\n",
    "        weight_init: str = \"xavier\",\n",
    "        num_mlp_layers: int = 3,\n",
    "        mlp_layer_dim: int = 128,\n",
    "        activation: str = \"gelu\",\n",
    "        leaky_relu_frac: float = 0.2,\n",
    "        dropout: float = 0.2,\n",
    "        loss = nn.BCELoss(),\n",
    "        feature_factor: float = 2.,\n",
    "        final_activation = nn.Tanh(),\n",
    "    ):\n",
    "        super().__init__()\n",
    "        self.model = MLP(input_dim=input_dim,\n",
    "                         output_dim=output_dim,\n",
    "                         lr=lr,\n",
    "                         weight_decay=weight_decay,\n",
    "                         adam_eps=adam_eps,\n",
    "                         weight_init=weight_init,\n",
    "                         num_mlp_layers=num_mlp_layers,\n",
    "                         mlp_layer_dim=mlp_layer_dim,\n",
    "                         activation=activation,\n",
    "                         leaky_relu_frac=leaky_relu_frac,\n",
    "                         dropout=dropout,\n",
    "                         loss=loss,\n",
    "                         feature_factor=feature_factor,\n",
    "                         final_activation=final_activation,\n",
    "                        )\n",
    "\n",
    "    def forward(self, z):\n",
    "        return self.model(z)\n",
    "\n",
    "    # def configure_optimizers(self):\n",
    "    #     self.optimizer = torch.optim.Adam(\n",
    "    #         self.parameters(), lr=self.lr, eps=self.adam_eps, weight_decay=self.weight_decay\n",
    "    #     )\n",
    "    #     return self.optimizer\n",
    "        \n",
    "\n",
    "class Discriminator(pl.LightningModule):\n",
    "    def __init__(\n",
    "        self,\n",
    "        input_dim: int = 784,\n",
    "        output_dim: int = 1,\n",
    "        lr: float = 1e-4,\n",
    "        weight_decay: float = 1e-8,\n",
    "        adam_eps: float = 1e-7,\n",
    "        weight_init: str = \"xavier\",\n",
    "        num_mlp_layers: int = 3,\n",
    "        mlp_layer_dim: int = 128,\n",
    "        activation: str = \"gelu\",\n",
    "        leaky_relu_frac: float = 0.2,\n",
    "        dropout: float = 0.2,\n",
    "        loss = nn.BCELoss(),\n",
    "        feature_factor: float = 2.,\n",
    "        final_activation = nn.Sigmoid(),\n",
    "    ):\n",
    "        super().__init__()\n",
    "        self.model = MLP(input_dim=input_dim,\n",
    "                         output_dim=output_dim,\n",
    "                         lr=lr,\n",
    "                         weight_decay=weight_decay,\n",
    "                         adam_eps=adam_eps,\n",
    "                         weight_init=weight_init,\n",
    "                         num_mlp_layers=num_mlp_layers,\n",
    "                         mlp_layer_dim=mlp_layer_dim,\n",
    "                         activation=activation,\n",
    "                         leaky_relu_frac=leaky_relu_frac,\n",
    "                         dropout=dropout,\n",
    "                         loss=loss,\n",
    "                         feature_factor=feature_factor,\n",
    "                         final_activation=final_activation,\n",
    "                        )\n",
    "\n",
    "    def forward(self, z):\n",
    "        return self.model(z)\n",
    "\n",
    "    # def configure_optimizers(self):\n",
    "    #     self.optimizer = torch.optim.Adam(\n",
    "    #         self.parameters(), lr=self.lr, eps=self.adam_eps, weight_decay=self.weight_decay\n",
    "    #     )\n",
    "    #     return self.optimizer"
   ]
  },
  {
   "cell_type": "markdown",
   "id": "d253758f-8281-4878-8dab-c1ca40448bb4",
   "metadata": {},
   "source": [
    "### Combine"
   ]
  },
  {
   "cell_type": "code",
   "execution_count": 7,
   "id": "54c14c8c-8d22-4f4c-a033-a9b57b80aca3",
   "metadata": {},
   "outputs": [],
   "source": [
    "class GAN(pl.LightningModule):\n",
    "    def __init__(\n",
    "        self,\n",
    "        img_dim: int = 784,\n",
    "        latent_dim: int = 64,\n",
    "        lr: float = 1e-4,\n",
    "        weight_decay: float = 1e-8,\n",
    "        adam_eps: float = 1e-7,\n",
    "        weight_init: str = \"xavier\",\n",
    "        use_batchnorm: bool = False,\n",
    "        num_mlp_layers: int = 3,\n",
    "        mlp_layer_dim: int = 128,\n",
    "        activation: str = \"gelu\",\n",
    "        dropout: float = 0.2,\n",
    "        padded_spectra: bool = False,\n",
    "        encoder_name: str = \"\",\n",
    "        # **kwargs: dict,\n",
    "    ) -> None:\n",
    "        super().__init__()\n",
    "\n",
    "        # do this because we are using multiple optimizers\n",
    "        self.automatic_optimization = False\n",
    "\n",
    "        self.img_dim = img_dim\n",
    "        self.latent_dim = latent_dim\n",
    "\n",
    "        self.classifier = Discriminator(\n",
    "            input_dim=img_dim,\n",
    "            feature_factor=0.5,\n",
    "        )\n",
    "\n",
    "        self.generator = Generator(\n",
    "            input_dim=latent_dim,\n",
    "            output_dim=img_dim,\n",
    "            feature_factor=2.,\n",
    "        )\n",
    "\n",
    "        self.lr = lr\n",
    "        self.weight_decay = weight_decay\n",
    "        self.adam_eps = adam_eps\n",
    "        self.weight_init = weight_init\n",
    "        self.activation = activation\n",
    "\n",
    "\n",
    "    def process_batch(self, x, step: str = \"train\"):\n",
    "        \n",
    "        # get optimizers (different for each model)\n",
    "        d_opt, g_opt = self.optimizers()\n",
    "\n",
    "        batch_size = x.shape[0]\n",
    "\n",
    "        ##### train discrimator ####\n",
    "        # these are real (hence, 1)\n",
    "        x_real = x.view(-1, self.img_dim).float().to(self.device)\n",
    "        y_real = torch.ones(batch_size, 1).float().to(self.device)\n",
    "\n",
    "        # classify real data\n",
    "        real_classification = self.classifier(x_real)\n",
    "\n",
    "        # get classifier loss\n",
    "        real_loss = self.classifier.model.loss(real_classification, y_real)\n",
    "\n",
    "        # now use fake data (y = 0)/random input\n",
    "        z = torch.randn(batch_size, self.latent_dim).float().to(device)\n",
    "        \n",
    "        # send random data through generator\n",
    "        x_fake = self.generator(z)\n",
    "        y_fake = torch.zeros(batch_size, 1).float().to(device)\n",
    "    \n",
    "        fake_classification = self.classifier(x_fake)\n",
    "        fake_loss = self.classifier.model.loss(fake_classification, y_fake)\n",
    "\n",
    "        class_loss = 0.5 * (fake_loss + real_loss)\n",
    "\n",
    "        if step == \"train\":\n",
    "            d_opt.zero_grad()\n",
    "            self.manual_backward(class_loss)\n",
    "            d_opt.step()\n",
    "\n",
    "            \n",
    "        ##### train generator ####\n",
    "        # random input\n",
    "        z = torch.randn(batch_size, self.latent_dim).float().to(device)\n",
    "\n",
    "        # 1 because we are trying to trick classifier\n",
    "        gen_labels = torch.ones(batch_size, 1).to(device)\n",
    "\n",
    "        # generate some data\n",
    "        gen_output = self.generator(z)\n",
    "        # classify data\n",
    "        class_output = self.classifier(gen_output)\n",
    "        gen_loss = self.classifier.model.loss(class_output, gen_labels)\n",
    "\n",
    "        if step == \"train\":\n",
    "            g_opt.zero_grad()\n",
    "            self.manual_backward(gen_loss)\n",
    "            g_opt.step()\n",
    "\n",
    "        self.log(f\"{step}_d_loss\", class_loss)\n",
    "\n",
    "        self.log(f\"{step}_g_loss\", gen_loss)\n",
    "\n",
    "        return {f\"{step}_d_loss\": class_loss, f\"{step}_g_loss\": gen_loss}\n",
    "\n",
    "    def training_step(self, batch, batch_idx):\n",
    "        # import pdb; pdb.set_trace()\n",
    "        x, _ = batch\n",
    "        return self.process_batch(x, step=\"train\")\n",
    "\n",
    "    def validation_step(self, batch, batch_idx):\n",
    "        x, _ = batch\n",
    "        return self.process_batch(x, step=\"val\")\n",
    "\n",
    "    def test_step(self, batch, batch_idx):\n",
    "        x, _ = batch\n",
    "        return self.process_batch(x, step=\"test\")\n",
    "\n",
    "    def configure_optimizers(self):\n",
    "        ## one optimizer for each model\n",
    "        self.d_opt = torch.optim.Adam(\n",
    "            self.classifier.model.parameters(), lr=self.lr, eps=self.adam_eps, weight_decay=self.weight_decay\n",
    "        )\n",
    "        self.g_opt = torch.optim.Adam(\n",
    "            self.generator.model.parameters(), lr=self.lr, eps=self.adam_eps, weight_decay=self.weight_decay\n",
    "        )\n",
    "        return self.d_opt, self.g_opt\n"
   ]
  },
  {
   "cell_type": "markdown",
   "id": "04a270db-9555-4a50-8359-acc2bae51143",
   "metadata": {},
   "source": [
    "## Train"
   ]
  },
  {
   "cell_type": "code",
   "execution_count": 8,
   "id": "ad49eb37-8b40-4698-8d22-6380871fad7c",
   "metadata": {},
   "outputs": [],
   "source": [
    "num_epochs = 50\n",
    "accelerator_name = \"mps\"\n",
    "accelerator_name = \"cpu\"\n",
    "\n",
    "# boilerplate to get GPU if possible\n",
    "if accelerator_name == \"mps\":\n",
    "    device = torch.device(\"mps\" if torch.backends.mps.is_available() else \"cpu\")\n",
    "elif accelerator_name == \"cuda\":\n",
    "    device = torch.device(\"cuda:0\" if torch.cuda.is_available() else \"cpu\")\n",
    "else:\n",
    "    device = torch.device(\"cpu\")\n",
    "\n",
    "# Ensure that all operations are deterministic on GPU (if used) for reproducibility\n",
    "torch.backends.cudnn.determinstic = True\n",
    "torch.backends.cudnn.benchmark = False"
   ]
  },
  {
   "cell_type": "code",
   "execution_count": 9,
   "id": "6f41ff0c-7bce-445b-b1e4-c1bcdb623b23",
   "metadata": {},
   "outputs": [],
   "source": [
    "use_wandb = False\n",
    "if not use_wandb:\n",
    "    %load_ext tensorboard\n",
    "    cnn_logger = TensorBoardLogger(\"gan_logs\", name=\"mnist_fashion_gan\")\n",
    "    run_name = \"cnn\"\n",
    "else:\n",
    "    logger_kwargs = {\n",
    "        \"resume\": \"allow\",\n",
    "        \"config\": model_hparams,\n",
    "    }\n",
    "    cnn_logger = WandbLogger(project=project_name, entity=entity, **logger_kwargs)\n",
    "    cnn_run_name = cnn_logger.experiment.name"
   ]
  },
  {
   "cell_type": "code",
   "execution_count": 10,
   "id": "a3e76dad-6314-4bb8-bbf3-dd0c2df9e9bc",
   "metadata": {},
   "outputs": [
    {
     "name": "stderr",
     "output_type": "stream",
     "text": [
      "GPU available: True (mps), used: False\n",
      "TPU available: False, using: 0 TPU cores\n",
      "IPU available: False, using: 0 IPUs\n",
      "HPU available: False, using: 0 HPUs\n",
      "/Users/jasonterry/miniforge3/envs/pytorch_python10/lib/python3.10/site-packages/pytorch_lightning/trainer/setup.py:201: UserWarning: MPS available but not used. Set `accelerator` and `devices` using `Trainer(accelerator='mps', devices=1)`.\n",
      "  rank_zero_warn(\n"
     ]
    }
   ],
   "source": [
    "#### necessary for newer PTL versions\n",
    "devices = 1 \n",
    "accelerator = \"gpu\" if accelerator_name != \"cpu\" else \"cpu\"\n",
    "\n",
    "# make the trainer\n",
    "trainer = pl.Trainer(\n",
    "    devices=devices,\n",
    "    accelerator=accelerator,\n",
    "    max_epochs=num_epochs,\n",
    "    log_every_n_steps=1,\n",
    "    logger=cnn_logger,\n",
    "    # reload_dataloaders_every_epoch=True,\n",
    "    callbacks=[\n",
    "        LearningRateMonitor(\"epoch\"),\n",
    "        progress.TQDMProgressBar(refresh_rate=1),\n",
    "        EarlyStopping(\n",
    "            monitor=\"train_d_loss\",\n",
    "            min_delta=0,\n",
    "            patience=15,\n",
    "            verbose=False,\n",
    "            mode=\"min\",\n",
    "        ),\n",
    "    ],\n",
    ")\n",
    "trainer.logger._log_graph = True\n",
    "trainer.logger._default_hp_metric = None"
   ]
  },
  {
   "cell_type": "code",
   "execution_count": 11,
   "id": "40c02fca-ae0a-4e5d-a789-abe89c81f072",
   "metadata": {},
   "outputs": [],
   "source": [
    "latent_dim = 100\n",
    "num_mlp_layers = 5\n",
    "mlp_layer_dim = 128\n",
    "gan = GAN(img_dim=xy, latent_dim=latent_dim, mlp_layer_dim=mlp_layer_dim, num_mlp_layers=num_mlp_layers)"
   ]
  },
  {
   "cell_type": "code",
   "execution_count": 12,
   "id": "8957e2f7-6b0b-4da5-97f4-1923ce017259",
   "metadata": {},
   "outputs": [
    {
     "name": "stderr",
     "output_type": "stream",
     "text": [
      "/Users/jasonterry/miniforge3/envs/pytorch_python10/lib/python3.10/site-packages/pytorch_lightning/trainer/configuration_validator.py:70: PossibleUserWarning: You defined a `validation_step` but have no `val_dataloader`. Skipping val loop.\n",
      "  rank_zero_warn(\n",
      "\n",
      "  | Name       | Type          | Params\n",
      "---------------------------------------------\n",
      "0 | classifier | Discriminator | 110 K \n",
      "1 | generator  | Generator     | 579 K \n",
      "---------------------------------------------\n",
      "690 K     Trainable params\n",
      "0         Non-trainable params\n",
      "690 K     Total params\n",
      "2.762     Total estimated model params size (MB)\n",
      "/Users/jasonterry/miniforge3/envs/pytorch_python10/lib/python3.10/site-packages/pytorch_lightning/loggers/tensorboard.py:190: UserWarning: Could not log computational graph to TensorBoard: The `model.example_input_array` attribute is not set or `input_array` was not given.\n",
      "  rank_zero_warn(\n",
      "/Users/jasonterry/miniforge3/envs/pytorch_python10/lib/python3.10/site-packages/pytorch_lightning/trainer/connectors/data_connector.py:432: PossibleUserWarning: The dataloader, train_dataloader, does not have many workers which may be a bottleneck. Consider increasing the value of the `num_workers` argument` (try 10 which is the number of cpus on this machine) in the `DataLoader` init to improve performance.\n",
      "  rank_zero_warn(\n"
     ]
    },
    {
     "data": {
      "application/vnd.jupyter.widget-view+json": {
       "model_id": "9f8535dd16f742a7b5f75fab2fd2fc60",
       "version_major": 2,
       "version_minor": 0
      },
      "text/plain": [
       "Training: 0it [00:00, ?it/s]"
      ]
     },
     "metadata": {},
     "output_type": "display_data"
    }
   ],
   "source": [
    "trainer.fit(gan, train_dataloaders=train_loader)"
   ]
  },
  {
   "cell_type": "markdown",
   "id": "ed093855-08dc-4455-b15b-072ac1b97a1c",
   "metadata": {},
   "source": [
    "## Test"
   ]
  },
  {
   "cell_type": "code",
   "execution_count": 13,
   "id": "36f5df4f-b22c-44db-9e3a-2789fcf37a8d",
   "metadata": {},
   "outputs": [
    {
     "name": "stderr",
     "output_type": "stream",
     "text": [
      "/Users/jasonterry/miniforge3/envs/pytorch_python10/lib/python3.10/site-packages/pytorch_lightning/trainer/connectors/data_connector.py:432: PossibleUserWarning: The dataloader, test_dataloader, does not have many workers which may be a bottleneck. Consider increasing the value of the `num_workers` argument` (try 10 which is the number of cpus on this machine) in the `DataLoader` init to improve performance.\n",
      "  rank_zero_warn(\n"
     ]
    },
    {
     "data": {
      "application/vnd.jupyter.widget-view+json": {
       "model_id": "1ecde7082bd9479190819fbb4f0ad2f7",
       "version_major": 2,
       "version_minor": 0
      },
      "text/plain": [
       "Testing: 0it [00:00, ?it/s]"
      ]
     },
     "metadata": {},
     "output_type": "display_data"
    },
    {
     "name": "stdout",
     "output_type": "stream",
     "text": [
      "────────────────────────────────────────────────────────────────────────────────────────────────────────────────────────\n",
      "       Test metric             DataLoader 0\n",
      "────────────────────────────────────────────────────────────────────────────────────────────────────────────────────────\n",
      "       test_d_loss          0.6775009036064148\n",
      "       test_g_loss          0.6776726841926575\n",
      "────────────────────────────────────────────────────────────────────────────────────────────────────────────────────────\n",
      "[{'test_d_loss': 0.6775009036064148, 'test_g_loss': 0.6776726841926575}]\n"
     ]
    }
   ],
   "source": [
    "## Get test metrics\n",
    "test_results = trainer.test(gan, test_loader)\n",
    "print(test_results)"
   ]
  },
  {
   "cell_type": "code",
   "execution_count": 29,
   "id": "cb6b8564-7a26-4064-b204-6fc1a62e0725",
   "metadata": {},
   "outputs": [
    {
     "data": {
      "text/html": [
       "\n",
       "      <iframe id=\"tensorboard-frame-443cdef36840ff07\" width=\"100%\" height=\"800\" frameborder=\"0\">\n",
       "      </iframe>\n",
       "      <script>\n",
       "        (function() {\n",
       "          const frame = document.getElementById(\"tensorboard-frame-443cdef36840ff07\");\n",
       "          const url = new URL(\"/\", window.location);\n",
       "          const port = 6003;\n",
       "          if (port) {\n",
       "            url.port = port;\n",
       "          }\n",
       "          frame.src = url;\n",
       "        })();\n",
       "      </script>\n",
       "    "
      ],
      "text/plain": [
       "<IPython.core.display.HTML object>"
      ]
     },
     "metadata": {},
     "output_type": "display_data"
    }
   ],
   "source": [
    "## open up TensorBoard\n",
    "if not use_wandb:\n",
    "    %tensorboard --logdir gan_logs --port 6003"
   ]
  },
  {
   "cell_type": "code",
   "execution_count": null,
   "id": "47af1cf5-e22e-4ff8-9798-73680a1da7e4",
   "metadata": {},
   "outputs": [],
   "source": []
  },
  {
   "cell_type": "markdown",
   "id": "6db15892-0520-4056-861e-25c17d0fde5d",
   "metadata": {},
   "source": [
    "## Inference"
   ]
  },
  {
   "cell_type": "code",
   "execution_count": 15,
   "id": "98f5d100-3146-4a45-a9ee-9f0aa5c173eb",
   "metadata": {},
   "outputs": [],
   "source": [
    "num_imgs = 10\n",
    "random_inputs = torch.randn(num_imgs, latent_dim).float().to(device)\n",
    "\n",
    "generated_imgs = gan.generator(random_inputs).view(num_imgs, 1, 28, 28).detach().cpu().numpy().squeeze()"
   ]
  },
  {
   "cell_type": "code",
   "execution_count": 27,
   "id": "db984f8c-6459-480b-82a0-ff55d9952717",
   "metadata": {},
   "outputs": [
    {
     "data": {
      "image/png": "[encoded data removed]",
      "text/plain": [
       "<Figure size 1000x1000 with 1 Axes>"
      ]
     },
     "metadata": {},
     "output_type": "display_data"
    }
   ],
   "source": [
    "plt.figure(figsize=(10., 10.))\n",
    "\n",
    "img_index = 0\n",
    "plt.imshow(generated_imgs[img_index], cmap=\"viridis\")\n",
    "\n",
    "plt.xlabel(\"\")\n",
    "plt.ylabel(\"\")\n",
    "plt.xticks([])\n",
    "plt.yticks([])\n",
    "\n",
    "plt.show()"
   ]
  },
  {
   "cell_type": "code",
   "execution_count": 39,
   "id": "7950e4c7-f6e6-42e6-885b-d26ba2390b31",
   "metadata": {},
   "outputs": [
    {
     "data": {
      "image/png": "[encoded data removed]",
      "text/plain": [
       "<Figure size 1000x1000 with 1 Axes>"
      ]
     },
     "metadata": {},
     "output_type": "display_data"
    }
   ],
   "source": [
    "plt.figure(figsize=(10., 10.))\n",
    "\n",
    "img_index = 0\n",
    "plt.imshow(train_dataset[img_index][0].numpy().squeeze(), cmap=\"viridis\")\n",
    "\n",
    "plt.xlabel(\"\")\n",
    "plt.ylabel(\"\")\n",
    "plt.xticks([])\n",
    "plt.yticks([])\n",
    "\n",
    "plt.show()"
   ]
  },
  {
   "cell_type": "code",
   "execution_count": null,
   "id": "875dd689-4a41-491d-ae7e-04b5821f7462",
   "metadata": {},
   "outputs": [],
   "source": []
  }
 ],
 "metadata": {
  "kernelspec": {
   "display_name": "Python 3 (ipykernel)",
   "language": "python",
   "name": "python3"
  },
  "language_info": {
   "codemirror_mode": {
    "name": "ipython",
    "version": 3
   },
   "file_extension": ".py",
   "mimetype": "text/x-python",
   "name": "python",
   "nbconvert_exporter": "python",
   "pygments_lexer": "ipython3",
   "version": "3.10.10"
  }
 },
 "nbformat": 4,
 "nbformat_minor": 5
}
